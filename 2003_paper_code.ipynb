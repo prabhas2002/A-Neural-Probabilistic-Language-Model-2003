{
 "cells": [
  {
   "cell_type": "code",
   "execution_count": 1,
   "metadata": {},
   "outputs": [],
   "source": [
    "import torch\n",
    "import torch.nn.functional as F\n",
    "import matplotlib.pyplot as plt \n",
    "%matplotlib inline"
   ]
  },
  {
   "cell_type": "code",
   "execution_count": 35,
   "metadata": {},
   "outputs": [
    {
     "data": {
      "text/plain": [
       "['Aamir', 'Aaron', 'Abbey', 'Abbie', 'Abbot']"
      ]
     },
     "execution_count": 35,
     "metadata": {},
     "output_type": "execute_result"
    }
   ],
   "source": [
    "# read in all the words\n",
    "words = open('names.txt', 'r').read().splitlines()\n",
    "words[:5] #print first 5 words"
   ]
  },
  {
   "cell_type": "code",
   "execution_count": 36,
   "metadata": {},
   "outputs": [],
   "source": [
    "words=[x.lower() for x in words] #lowwrcasing all words"
   ]
  },
  {
   "cell_type": "code",
   "execution_count": 37,
   "metadata": {},
   "outputs": [
    {
     "data": {
      "text/plain": [
       "7944"
      ]
     },
     "execution_count": 37,
     "metadata": {},
     "output_type": "execute_result"
    }
   ],
   "source": [
    "len(words)"
   ]
  },
  {
   "cell_type": "code",
   "execution_count": 38,
   "metadata": {},
   "outputs": [
    {
     "name": "stdout",
     "output_type": "stream",
     "text": [
      "30\n"
     ]
    }
   ],
   "source": [
    "# build the vocabulary of characters and  mappings to/from integers\n",
    "chars = sorted(list(set(''.join(words))))\n",
    "stoi = {s:i+1 for i,s in enumerate(chars)}\n",
    "stoi['.'] = 0\n",
    "itos = {i:s for s,i in stoi.items()}\n",
    "print(len(itos))  #so vocabulary length is 30"
   ]
  },
  {
   "cell_type": "code",
   "execution_count": 6,
   "metadata": {},
   "outputs": [],
   "source": [
    "# build the dataset\n",
    "block_size = 3 # context length\n",
    "\n",
    "def build_dataset(words,st):  \n",
    "  X, Y = [], []\n",
    "  for w in words:\n",
    "    context = [0] * block_size\n",
    "    for ch in w + '.':\n",
    "      ix = stoi[ch]\n",
    "      X.append(context)\n",
    "      Y.append(ix)\n",
    "      context = context[1:] + [ix]  # crop context and append next character\n",
    "\n",
    "  X = torch.tensor(X)\n",
    "  Y = torch.tensor(Y)\n",
    "  print('{0} size is ---->   examples: {1} and targets is {2} '.format(st,X.shape, Y.shape))\n",
    "  return X, Y"
   ]
  },
  {
   "cell_type": "code",
   "execution_count": 7,
   "metadata": {},
   "outputs": [
    {
     "name": "stdout",
     "output_type": "stream",
     "text": [
      "Training size is ---->   examples: torch.Size([44725, 3]) and targets is torch.Size([44725]) \n",
      "Validation size is ---->   examples: torch.Size([5599, 3]) and targets is torch.Size([5599]) \n",
      "Testing size is ---->   examples: torch.Size([5544, 3]) and targets is torch.Size([5544]) \n"
     ]
    }
   ],
   "source": [
    "#building train 80% ,validation 10% ,test data 10% splits\n",
    "import random\n",
    "random.seed(42)\n",
    "random.shuffle(words)\n",
    "n1 = int(0.8*len(words))\n",
    "n2 = int(0.9*len(words))\n",
    "\n",
    "Xtr, Ytr = build_dataset(words[:n1],'Training')\n",
    "Xdev, Ydev = build_dataset(words[n1:n2],'Validation')\n",
    "Xte, Yte = build_dataset(words[n2:],'Testing')"
   ]
  },
  {
   "cell_type": "code",
   "execution_count": 8,
   "metadata": {},
   "outputs": [],
   "source": [
    "# Xtr=Xtr.float()\n",
    "# Ytr=Ytr.float()\n",
    "# Xdev=Xdev.float()\n",
    "# Ydev=Ydev.float()"
   ]
  },
  {
   "cell_type": "code",
   "execution_count": 9,
   "metadata": {},
   "outputs": [],
   "source": [
    "#init the neural net\n",
    "dim=10\n",
    "hidden=200\n",
    "gain=5/3\n",
    "C = torch.randn((len(itos), dim))  # 10 dimensional lookup table for vocabulary size.\n",
    "W1 = torch.randn((block_size*dim, hidden))* gain/((block_size*dim)**0.5) #3*10=30 (context * dim= size of one input)\n",
    "#b1 = torch.randn(hidden) * 0\n",
    "W2 = torch.randn((hidden, len(itos))) * 0.01\n",
    "b2 = torch.randn(len(itos)) * 0\n",
    "scale=torch.ones(1,hidden)*0.01\n",
    "shift=torch.zeros(1,hidden)*0.01\n",
    "parameters = [C, W1,scale,shift, W2, b2] #b1 not req"
   ]
  },
  {
   "cell_type": "code",
   "execution_count": 10,
   "metadata": {},
   "outputs": [
    {
     "data": {
      "text/plain": [
       "12730"
      ]
     },
     "execution_count": 10,
     "metadata": {},
     "output_type": "execute_result"
    }
   ],
   "source": [
    "sum(p.nelement() for p in parameters) # number of parameters in total"
   ]
  },
  {
   "cell_type": "code",
   "execution_count": 11,
   "metadata": {},
   "outputs": [],
   "source": [
    "#setting requires_grad=True for all parameters\n",
    "for p in parameters:\n",
    "  p.requires_grad = True "
   ]
  },
  {
   "cell_type": "code",
   "execution_count": 23,
   "metadata": {},
   "outputs": [],
   "source": [
    "#init parameters for training\n",
    "lossi = []\n",
    "stepi = []\n",
    "epochs=100000\n",
    "lr=0.01\n",
    "alpha=0.1\n",
    "batch_size=32\n",
    "first_mom=0\n",
    "second_mom=0\n",
    "first_mom=first_mom/(1-0.9*100)\n",
    "second_mom=second_mom/(1-0.999*100)"
   ]
  },
  {
   "cell_type": "code",
   "execution_count": 24,
   "metadata": {},
   "outputs": [],
   "source": [
    "#C[Xtr] === C @ one_hot of Xtr example"
   ]
  },
  {
   "cell_type": "code",
   "execution_count": 41,
   "metadata": {},
   "outputs": [
    {
     "name": "stdout",
     "output_type": "stream",
     "text": [
      "loss at 1 iteration is 2.5834903717041016\n",
      "loss at 5001 iteration is 2.1327292919158936\n",
      "loss at 10001 iteration is 2.0441415309906006\n",
      "loss at 15001 iteration is 1.8372997045516968\n",
      "loss at 20001 iteration is 2.0371363162994385\n",
      "loss at 25001 iteration is 2.100309371948242\n",
      "loss at 30001 iteration is 2.081117868423462\n",
      "loss at 35001 iteration is 2.198269844055176\n",
      "loss at 40001 iteration is 1.8516473770141602\n",
      "loss at 45001 iteration is 2.2413129806518555\n",
      "loss at 50001 iteration is 2.1094748973846436\n",
      "loss at 55001 iteration is 1.667232871055603\n",
      "loss at 60001 iteration is 2.1863088607788086\n",
      "loss at 65001 iteration is 2.4835562705993652\n",
      "loss at 70001 iteration is 1.7741042375564575\n",
      "loss at 75001 iteration is 1.740194320678711\n",
      "loss at 80001 iteration is 1.9886850118637085\n",
      "loss at 85001 iteration is 2.117891788482666\n",
      "loss at 90001 iteration is 1.8746719360351562\n",
      "loss at 95001 iteration is 2.1343894004821777\n",
      "loss at 100001 iteration is 2.233757972717285\n"
     ]
    }
   ],
   "source": [
    "for i in range(epochs+1):\n",
    "    #sample a batch\n",
    "    ix = torch.randint(0, Xtr.shape[0], (batch_size,))\n",
    "    \n",
    "    #forward pass\n",
    "    emb=C[Xtr] # projecting each character to 10 dim \n",
    "    normli1= C[Xtr[ix]].view(-1,block_size*dim) @ W1 #+ b1\n",
    "    \n",
    "    #batch normalization\n",
    "    normli= (normli1-normli1.mean(axis=0,keepdim=True))/normli1.std(axis=0,keepdim=True)\n",
    "    normli=normli*scale + shift\n",
    "    \n",
    "    \n",
    "    temp=torch.tanh(normli)\n",
    "    logits= temp @ W2 + b2\n",
    "    \n",
    "    #softmax\n",
    "    counts = logits.exp() \n",
    "    probs = counts / counts.sum(1, keepdims=True) # probabilities for next character\n",
    "    \n",
    "    #negative log likelyhood loss loss fn\n",
    "    loss = -probs[torch.arange(len(Xtr[ix])), Ytr[ix]].log().mean() + alpha*(W1**2).mean()\n",
    " \n",
    "    #backward pass\n",
    "    for p in parameters:\n",
    "        p.grad=None\n",
    "        \n",
    "    loss.backward()\n",
    "\n",
    "    #parameter update\n",
    "    for p in parameters:\n",
    "        lr=0.01 if i<10000 else 0.1 \n",
    "        p.data-=lr*p.grad\n",
    "        \n",
    "      #adam update\n",
    "#     for p in parameters:\n",
    "#         print(p.grad.shape)\n",
    "#         first_mom=0.9*first_mom+0.1*p.grad\n",
    "#         second_mom=0.999*second_mom+0.001*p.grad**2\n",
    "#         eff_lr=1/((second_mom**2+0.00001)**0.5)\n",
    "#         p.data-=eff_lr*first_mom\n",
    "\n",
    "    if(i%5000==0):\n",
    "        print('loss at {0} iteration is {1}'.format(i+1,loss.item()))\n",
    "    \n",
    "    \n",
    "    #for stats\n",
    "    stepi.append(i)\n",
    "    lossi.append(loss.item())\n",
    "    "
   ]
  },
  {
   "cell_type": "code",
   "execution_count": 15,
   "metadata": {},
   "outputs": [
    {
     "data": {
      "image/png": "[encoded data removed]",
      "text/plain": [
       "<Figure size 432x288 with 1 Axes>"
      ]
     },
     "metadata": {},
     "output_type": "display_data"
    }
   ],
   "source": [
    "#plotting stpes vs loss\n",
    "plt.plot(stepi,lossi,'ro')\n",
    "plt.xlabel(\"iteration no\")\n",
    "plt.ylabel('loss')\n",
    "\n",
    "plt.show()"
   ]
  },
  {
   "cell_type": "code",
   "execution_count": 42,
   "metadata": {},
   "outputs": [
    {
     "name": "stdout",
     "output_type": "stream",
     "text": [
      "loss for validation set is 2.2997658252716064\n"
     ]
    }
   ],
   "source": [
    "#loss for validation set\n",
    "#sample a batch\n",
    "ix = torch.randint(0, Xdev.shape[0], (batch_size,))\n",
    "\n",
    "#forward pass\n",
    "emb=C[Xdev] # projecting each character to 10 dim \n",
    "normli1= C[Xdev[ix]].view(-1,block_size*dim) @ W1 #+ b1\n",
    "\n",
    "#batch normalization\n",
    "normli= (normli1-normli1.mean(axis=0,keepdim=True))/normli1.std(axis=0,keepdim=True) #or calculate running and var with momentum.\n",
    "normli=normli*scale + shift\n",
    "\n",
    "\n",
    "temp=torch.tanh(normli)\n",
    "logits= temp @ W2 + b2\n",
    "\n",
    "#softmax\n",
    "counts = logits.exp() \n",
    "probs = counts / counts.sum(1, keepdims=True) # probabilities for next character\n",
    "\n",
    "#negative log likelyhood loss loss fn\n",
    "loss_dev = -probs[torch.arange(len(Xdev[ix])), Ydev[ix]].log().mean() + alpha*(W1**2).mean()\n",
    "\n",
    "print('loss for validation set is {0}'.format(loss_dev))"
   ]
  },
  {
   "cell_type": "code",
   "execution_count": 51,
   "metadata": {},
   "outputs": [
    {
     "name": "stdout",
     "output_type": "stream",
     "text": [
      "loss for test set is 2.0711169242858887\n"
     ]
    }
   ],
   "source": [
    "#loss for test set\n",
    "#sample a batch\n",
    "ix = torch.randint(0, Xte.shape[0], (batch_size,))\n",
    "\n",
    "#forward pass\n",
    "emb=C[Xte] # projecting each character to 10 dim \n",
    "normli1= C[Xte[ix]].view(-1,block_size*dim) @ W1 #+ b1\n",
    "\n",
    "#batch normalization\n",
    "normli= (normli1-normli1.mean(axis=0,keepdim=True))/normli1.std(axis=0,keepdim=True) #or calculate running and var with momentum.\n",
    "normli=normli*scale + shift\n",
    "\n",
    "\n",
    "temp=torch.tanh(normli)\n",
    "logits= temp @ W2 + b2\n",
    "\n",
    "#softmax\n",
    "counts = logits.exp() \n",
    "probs = counts / counts.sum(1, keepdims=True) # probabilities for next character\n",
    "\n",
    "#negative log likelyhood loss loss fn\n",
    "loss_te = -probs[torch.arange(len(Xte[ix])), Yte[ix]].log().mean() + alpha*(W1**2).mean()\n",
    "\n",
    "print('loss for test set is {0}'.format(loss_te))"
   ]
  },
  {
   "cell_type": "code",
   "execution_count": 21,
   "metadata": {},
   "outputs": [
    {
     "name": "stdout",
     "output_type": "stream",
     "text": [
      "josangel.\n",
      "dannteth.\n",
      "ufwudleva.\n",
      "darg.\n",
      "dorest.\n",
      "adgenusthpe.\n",
      "pannustia.\n",
      "dugta.\n",
      "strest.\n",
      "aggiddanne.\n"
     ]
    }
   ],
   "source": [
    "# sample from the model\n",
    "for i in range(10):\n",
    "    \n",
    "    out = []\n",
    "    context = [0] * block_size # initialize with all ...\n",
    "    while True:\n",
    "      emb = C[torch.tensor([context])] # (1,block_size,dim)\n",
    "      temp = (emb.view(1, -1) @ W1 )\n",
    "      temp=temp-temp.mean()/temp.std()\n",
    "      temp=temp*scale+shift\n",
    "      h=torch.tanh(temp)\n",
    "      logits = h @ W2 + b2\n",
    "      probs = F.softmax(logits, dim=1)\n",
    "      ix = torch.multinomial(probs, num_samples=1).item()\n",
    "      context = context[1:] + [ix]\n",
    "      out.append(ix)\n",
    "      if ix == 0:\n",
    "        break\n",
    "    \n",
    "    print(''.join(itos[i] for i in out))"
   ]
  },
  {
   "cell_type": "code",
   "execution_count": 19,
   "metadata": {},
   "outputs": [],
   "source": [
    "# samples from the model\n",
    "# 1)normal implementatoin \n",
    "# felgrlnna.\n",
    "# mar.\n",
    "# tiph.\n",
    "# rey.\n",
    "# aatia.\n",
    "# ald.\n",
    "# tibe.\n",
    "# juspattan.\n",
    "# fzopseffiegane.\n",
    "# macy.\n",
    "\n",
    "# 2)normal implementaion + good init of network + batch normalization\n",
    "# agretti.\n",
    "# plarmeliannethioshe.\n",
    "# darconsoliquettts.\n",
    "# ddt.\n",
    "# jomatqe.\n",
    "# did.\n",
    "# panny.\n",
    "# digita.\n",
    "# lappengel.\n",
    "\n",
    "\n",
    "\n",
    "#3)normal implementaion + good init of network + batch normalization + adam optimizer\n",
    "#nerdre.\n",
    "#lerome.\n",
    "#sterrie.\n",
    "#neila.\n",
    "#martie.\n",
    "#and.\n",
    "#josette.\n",
    "#ciley.\n",
    "#romeo.\n",
    "#ira."
   ]
  }
 ],
 "metadata": {
  "kernelspec": {
   "display_name": "Python 3",
   "language": "python",
   "name": "python3"
  },
  "language_info": {
   "codemirror_mode": {
    "name": "ipython",
    "version": 3
   },
   "file_extension": ".py",
   "mimetype": "text/x-python",
   "name": "python",
   "nbconvert_exporter": "python",
   "pygments_lexer": "ipython3",
   "version": "3.6.5"
  }
 },
 "nbformat": 4,
 "nbformat_minor": 2
}
